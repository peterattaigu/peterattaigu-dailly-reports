{
 "cells": [
  {
   "cell_type": "code",
   "execution_count": 1,
   "id": "0385a85e-9c48-436d-9e3c-7017cbe2fda9",
   "metadata": {},
   "outputs": [
    {
     "name": "stdout",
     "output_type": "stream",
     "text": [
      "27\n"
     ]
    }
   ],
   "source": [
    "# if clause\n",
    "\n",
    "a = 27\n",
    "print(a)"
   ]
  },
  {
   "cell_type": "markdown",
   "id": "d8ffd228-297d-4fd6-b6b0-6678499d2514",
   "metadata": {},
   "source": [
    "### `if` ...  `else`\n",
    "\n",
    "```python\n",
    "    if condition:\n",
    "        instruction 1 ....:\n",
    "```"
   ]
  },
  {
   "cell_type": "code",
   "execution_count": 8,
   "id": "3eff4d78-1464-4ca4-b824-e98766f059fd",
   "metadata": {},
   "outputs": [
    {
     "name": "stdout",
     "output_type": "stream",
     "text": [
      "27\n",
      "We do not have it\n"
     ]
    }
   ],
   "source": [
    "a = 27\n",
    "print(a)\n",
    "if (a > 29):\n",
    "    print('We have it')\n",
    "else:\n",
    "    print('We do not have it')"
   ]
  },
  {
   "cell_type": "markdown",
   "id": "d715e5fc-fb47-461a-8464-bf3b92d28798",
   "metadata": {},
   "source": [
    "### `if` ... `elif` ... `else`\n"
   ]
  },
  {
   "cell_type": "code",
   "execution_count": 9,
   "id": "2b5d2301-f480-417d-98a9-2b427994e66f",
   "metadata": {},
   "outputs": [
    {
     "name": "stdout",
     "output_type": "stream",
     "text": [
      "x is zero\n"
     ]
    }
   ],
   "source": [
    "x = 0\n",
    "if x > 0:\n",
    "    print(\"x is positive\")\n",
    "elif x < 0 :\n",
    "    print('x is negative')\n",
    "else:\n",
    "    print('x is zero')"
   ]
  },
  {
   "cell_type": "markdown",
   "id": "f7811ecc-d81c-4627-b3e0-33ac251b6a52",
   "metadata": {},
   "source": [
    "### Nested Clauses\n",
    "\n",
    "```python\n",
    "    if condition:\n",
    "        instruction 1 ....\n",
    "            if ...\n",
    "            else...\n",
    "    else ...\n",
    "```"
   ]
  },
  {
   "cell_type": "code",
   "execution_count": 11,
   "id": "2e7560fb-16d0-4dba-b00e-644b2196729a",
   "metadata": {},
   "outputs": [
    {
     "name": "stdout",
     "output_type": "stream",
     "text": [
      "a is greater than b\n",
      "The diff is ...\n"
     ]
    }
   ],
   "source": [
    "a = 15\n",
    "b = 10\n",
    "\n",
    "if a > b:\n",
    "    print('a is greater than b')\n",
    "    if (a - b > 5):\n",
    "        print('The difference is ....')\n",
    "    else:\n",
    "        print('The diff is ...')\n",
    "else:\n",
    "    print('b is gretaer than a')"
   ]
  },
  {
   "cell_type": "code",
   "execution_count": 26,
   "id": "f575dec0-7844-4865-90ee-7e0c8f12d569",
   "metadata": {},
   "outputs": [
    {
     "name": "stdin",
     "output_type": "stream",
     "text": [
      "Enter a:  1\n",
      "Enter b:  2\n",
      "Enter c:  1\n"
     ]
    },
    {
     "name": "stdout",
     "output_type": "stream",
     "text": [
      "-1.0 -1.0\n"
     ]
    }
   ],
   "source": [
    "import math\n",
    "\n",
    "a = int(input('Enter a: '))\n",
    "b = int(input('Enter b: '))\n",
    "c = int(input('Enter c: '))\n",
    "\n",
    "d = (b**2) - 4*a*c \n",
    "d = d ** 0.5\n",
    "\n",
    "if a != 0:\n",
    "    if d >= 0:\n",
    "        x1 = (-b + d)/(2*a)\n",
    "        x2 = (-b - d)/(2*a)\n",
    "        print(x1,x2)\n",
    "    else:\n",
    "        print('This is complex')\n",
    "else:\n",
    "    print('Not a quadratic equation')"
   ]
  },
  {
   "cell_type": "code",
   "execution_count": 28,
   "id": "28781ef4-1e10-43c0-987f-c66859ccc758",
   "metadata": {},
   "outputs": [
    {
     "name": "stdout",
     "output_type": "stream",
     "text": [
      "The value of i is  4\n",
      "The value of i is  5\n",
      "The value of i is  6\n",
      "The value of i is  7\n",
      "The value of i is  8\n",
      "The value of i is  9\n"
     ]
    }
   ],
   "source": [
    "i = 1\n",
    "while (i < 10):\n",
    "    print('The value of i is ', i)\n",
    "    i += 1"
   ]
  },
  {
   "cell_type": "code",
   "execution_count": 29,
   "id": "eaa8b133-c0d9-4e8c-99f6-461cabe79922",
   "metadata": {},
   "outputs": [
    {
     "name": "stdout",
     "output_type": "stream",
     "text": [
      "0\n",
      "1\n",
      "2\n",
      "3\n",
      "4\n",
      "5\n",
      "6\n",
      "7\n",
      "8\n",
      "9\n"
     ]
    }
   ],
   "source": [
    "n = 10\n",
    "for i in range(n):\n",
    "    print(i)"
   ]
  },
  {
   "cell_type": "code",
   "execution_count": 30,
   "id": "61934664-9992-4205-a26f-3ba66797c8ff",
   "metadata": {},
   "outputs": [
    {
     "name": "stdout",
     "output_type": "stream",
     "text": [
      "a\n",
      "b\n",
      "A\n",
      "H\n",
      "D\n",
      "B\n",
      "k\n",
      "j\n",
      "b\n",
      "e\n",
      "d\n",
      " \n",
      "k\n",
      "b\n",
      "f\n",
      "w\n",
      "b\n",
      "d\n",
      "f\n",
      "c\n",
      " \n",
      "b\n",
      "w\n",
      "e\n",
      "h\n",
      "b\n",
      "d\n",
      "k\n"
     ]
    }
   ],
   "source": [
    "for char in 'abAHDBkjbed kbfwbdfc bwehbdk':\n",
    "    print(char)"
   ]
  },
  {
   "cell_type": "code",
   "execution_count": 31,
   "id": "18096e99-49aa-4484-9287-06ce140a1f15",
   "metadata": {},
   "outputs": [
    {
     "data": {
      "text/plain": [
       "str"
      ]
     },
     "execution_count": 31,
     "metadata": {},
     "output_type": "execute_result"
    }
   ],
   "source": [
    "type(char)"
   ]
  },
  {
   "cell_type": "code",
   "execution_count": 32,
   "id": "67b72641-7db8-41e1-b267-45f89b1f8218",
   "metadata": {},
   "outputs": [
    {
     "data": {
      "text/plain": [
       "'k'"
      ]
     },
     "execution_count": 32,
     "metadata": {},
     "output_type": "execute_result"
    }
   ],
   "source": [
    "char"
   ]
  },
  {
   "cell_type": "code",
   "execution_count": 33,
   "id": "cef27e9b-bed5-4457-a8a1-54f76b649824",
   "metadata": {},
   "outputs": [
    {
     "name": "stdout",
     "output_type": "stream",
     "text": [
      "Try again\n",
      "We found it\n",
      "Try again\n",
      "Try again\n"
     ]
    }
   ],
   "source": [
    "list_fr = [3, 5, 'hello', 98]\n",
    "for i in list_fr:\n",
    "    if i == 5:\n",
    "        print('We found it')\n",
    "    else:\n",
    "        print('Try again')"
   ]
  },
  {
   "cell_type": "code",
   "execution_count": 37,
   "id": "a551c849-7135-46be-801c-9d38f91a12ef",
   "metadata": {},
   "outputs": [
    {
     "name": "stdout",
     "output_type": "stream",
     "text": [
      "The letter T is a consonant\n",
      "The letter h is a consonant\n",
      "The Letter ` i `is a vowel\n",
      "The letter s is a consonant\n",
      "This is likely a space\n",
      "The Letter ` i `is a vowel\n",
      "The letter s is a consonant\n",
      "This is likely a space\n",
      "The letter t is a consonant\n",
      "The letter h is a consonant\n",
      "The Letter ` e `is a vowel\n",
      "This is likely a space\n",
      "The letter s is a consonant\n",
      "The Letter ` e `is a vowel\n",
      "The letter c is a consonant\n",
      "The Letter ` o `is a vowel\n",
      "The letter n is a consonant\n",
      "The letter d is a consonant\n",
      "This is likely a space\n",
      "The letter c is a consonant\n",
      "The letter l is a consonant\n",
      "The Letter ` a `is a vowel\n",
      "The letter s is a consonant\n",
      "The letter s is a consonant\n",
      "The letter . is a consonant\n"
     ]
    }
   ],
   "source": [
    "sentence = \"This is the second class.\"\n",
    "for  letter in sentence:\n",
    "    if letter in \"AEIOUaeio\":\n",
    "        print(\"The Letter `\", letter, \"`is a vowel\")\n",
    "    elif letter == \" \":\n",
    "        print(\"This is likely a space\")\n",
    "    else:\n",
    "        print(\"The letter\", letter, \"is a consonant\")"
   ]
  },
  {
   "cell_type": "code",
   "execution_count": null,
   "id": "27a7074a-eb9a-4e4e-a910-6c7a5d87ed7c",
   "metadata": {},
   "outputs": [],
   "source": []
  }
 ],
 "metadata": {
  "kernelspec": {
   "display_name": "Python 3 (ipykernel)",
   "language": "python",
   "name": "python3"
  },
  "language_info": {
   "codemirror_mode": {
    "name": "ipython",
    "version": 3
   },
   "file_extension": ".py",
   "mimetype": "text/x-python",
   "name": "python",
   "nbconvert_exporter": "python",
   "pygments_lexer": "ipython3",
   "version": "3.12.7"
  }
 },
 "nbformat": 4,
 "nbformat_minor": 5
}
