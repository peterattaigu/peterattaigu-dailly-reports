{
 "cells": [
  {
   "cell_type": "markdown",
   "id": "225e9a20-8bea-47e8-9ad2-7ac1d3e59658",
   "metadata": {},
   "source": [
    "## Iterable Objects or Containers"
   ]
  },
  {
   "cell_type": "markdown",
   "id": "753a1667-c608-4928-8b92-1c6391365474",
   "metadata": {},
   "source": [
    "   - A **list** object is a sequence of values (numerical and/or characters) that are **indexed** and specified within **square brackets**, separated by commas. Example:\n",
    "      ```python\n",
    "         x = [1, 5, 8, 10, 4, 50, 8] # List consisting only of numbers\n",
    "         y = [\"Olivier\", \"ENGEL\", \"Strasbourg\"] # List consisting only of characters\n",
    "         z = [1, \"Olivier\", 5, 8, \"ENGEL\", 10, 4, 50, \"Strasbourg\"] # List consisting of both numbers and characters.\n",
    "       \n",
    "      ```\n",
    "     A list object can be generated manually by specifying the values within square brackets or automatically using the `list()` function.\n",
    "      ```python\n",
    "        x = list(range(1, 10))\n",
    "        print(x) # returns [1, 2, 3, 4, 5, 6, 7, 8, 9]"
   ]
  },
  {
   "cell_type": "code",
   "execution_count": 17,
   "id": "e512b577-afd6-43dd-b19c-b491a1cf8b2f",
   "metadata": {},
   "outputs": [
    {
     "data": {
      "text/plain": [
       "([1, 5, 8, 10, 4, 50, 8],\n",
       " ['Olivier', 'ENGEL', 'Strasbourg'],\n",
       " [1, 'Olivier', 5, 8, 'ENGEL', 10, 4, 50, 'Strasbourg'])"
      ]
     },
     "execution_count": 17,
     "metadata": {},
     "output_type": "execute_result"
    }
   ],
   "source": [
    "x = [1, 5, 8, 10, 4, 50, 8]\n",
    "y = [\"Olivier\", \"ENGEL\", \"Strasbourg\"] \n",
    "z = [1, \"Olivier\", 5, 8, \"ENGEL\", 10, 4, 50, \"Strasbourg\"]\n",
    "\n",
    "\n",
    "x,y,z"
   ]
  },
  {
   "cell_type": "code",
   "execution_count": 18,
   "id": "bdf23117-643b-40d3-8ee2-c1a0efaea728",
   "metadata": {},
   "outputs": [
    {
     "name": "stdout",
     "output_type": "stream",
     "text": [
      "[1, 2, 3, 4, 5, 6, 7, 8, 9]\n"
     ]
    }
   ],
   "source": [
    "x = list(range(1, 10)) # the list function works well with the range funtion to print a sequence of numbers\n",
    "print(x)"
   ]
  },
  {
   "cell_type": "code",
   "execution_count": 2,
   "id": "3fcc6603-c387-4fc4-81ce-b0104e7689a2",
   "metadata": {},
   "outputs": [
    {
     "data": {
      "text/plain": [
       "set"
      ]
     },
     "execution_count": 2,
     "metadata": {},
     "output_type": "execute_result"
    }
   ],
   "source": [
    "sets = {1,2,3}\n",
    "type(sets)"
   ]
  },
  {
   "cell_type": "code",
   "execution_count": 12,
   "id": "c4395e38-2fcc-4ce5-98ff-9583362f7a00",
   "metadata": {},
   "outputs": [],
   "source": [
    "sets.add(5) # adds a number to the set"
   ]
  },
  {
   "cell_type": "code",
   "execution_count": 23,
   "id": "f731420f-ae51-44be-bd1d-4bfbc79cd894",
   "metadata": {},
   "outputs": [],
   "source": [
    "x_range = list(sets) # converts the set to a set"
   ]
  },
  {
   "cell_type": "code",
   "execution_count": 24,
   "id": "f212370d-46d5-45fc-82f8-35a3a37eefd5",
   "metadata": {},
   "outputs": [
    {
     "data": {
      "text/plain": [
       "[1, 2, 3, 5]"
      ]
     },
     "execution_count": 24,
     "metadata": {},
     "output_type": "execute_result"
    }
   ],
   "source": [
    "x_range"
   ]
  },
  {
   "cell_type": "code",
   "execution_count": 44,
   "id": "4b18e5f8-b930-44e9-885a-a640c00e9630",
   "metadata": {},
   "outputs": [],
   "source": [
    "sash = [sets, 5,7] # makes the actual set an element of the list"
   ]
  },
  {
   "cell_type": "code",
   "execution_count": 45,
   "id": "89184eb9-59c9-45a5-80ca-bc94794afa51",
   "metadata": {},
   "outputs": [],
   "source": [
    "sash.append(4)"
   ]
  },
  {
   "cell_type": "code",
   "execution_count": 46,
   "id": "63fdf6e6-3854-422f-a6bf-631ddda8776d",
   "metadata": {},
   "outputs": [
    {
     "data": {
      "text/plain": [
       "[{1, 2, 3, 5}, 5, 7, 4]"
      ]
     },
     "execution_count": 46,
     "metadata": {},
     "output_type": "execute_result"
    }
   ],
   "source": [
    "sash"
   ]
  },
  {
   "cell_type": "code",
   "execution_count": 47,
   "id": "c6c33fb8-f783-4983-863e-999a1c90cc29",
   "metadata": {},
   "outputs": [
    {
     "data": {
      "text/plain": [
       "4"
      ]
     },
     "execution_count": 47,
     "metadata": {},
     "output_type": "execute_result"
    }
   ],
   "source": [
    "len(sash) # counts the number of elements in the list"
   ]
  },
  {
   "cell_type": "code",
   "execution_count": 30,
   "id": "3f269da1-9d23-409f-b7c2-37498353f128",
   "metadata": {},
   "outputs": [],
   "source": [
    "x_range.reverse() # reverses the list"
   ]
  },
  {
   "cell_type": "code",
   "execution_count": 31,
   "id": "62f9aef9-b734-4c81-b7b2-7fafc1c55759",
   "metadata": {},
   "outputs": [
    {
     "data": {
      "text/plain": [
       "[5, 3, 2, 1]"
      ]
     },
     "execution_count": 31,
     "metadata": {},
     "output_type": "execute_result"
    }
   ],
   "source": [
    "x_range"
   ]
  },
  {
   "cell_type": "code",
   "execution_count": 33,
   "id": "f76306c4-b943-40e4-aa93-f5d6c8fe26bb",
   "metadata": {},
   "outputs": [],
   "source": [
    "x_copy = x_range.copy() # makes a copy of the list"
   ]
  },
  {
   "cell_type": "code",
   "execution_count": 38,
   "id": "9d96b264-0c17-4ae6-b0b5-4100eb80781a",
   "metadata": {},
   "outputs": [
    {
     "data": {
      "text/plain": [
       "0"
      ]
     },
     "execution_count": 38,
     "metadata": {},
     "output_type": "execute_result"
    }
   ],
   "source": [
    "x_copy.count('a') # counts the string or number passed int o the function"
   ]
  },
  {
   "cell_type": "code",
   "execution_count": 39,
   "id": "370477d0-3b3b-4603-8de6-0ae7240de4b0",
   "metadata": {},
   "outputs": [
    {
     "data": {
      "text/plain": [
       "1"
      ]
     },
     "execution_count": 39,
     "metadata": {},
     "output_type": "execute_result"
    }
   ],
   "source": [
    "x_copy.count(3)"
   ]
  },
  {
   "cell_type": "code",
   "execution_count": 43,
   "id": "fdbb53d9-e885-49e4-87f0-9d6445fad8b7",
   "metadata": {},
   "outputs": [
    {
     "name": "stdout",
     "output_type": "stream",
     "text": [
      "Help on NoneType object:\n",
      "\n",
      "class NoneType(object)\n",
      " |  Methods defined here:\n",
      " |\n",
      " |  __bool__(self, /)\n",
      " |      True if self else False\n",
      " |\n",
      " |  __eq__(self, value, /)\n",
      " |      Return self==value.\n",
      " |\n",
      " |  __ge__(self, value, /)\n",
      " |      Return self>=value.\n",
      " |\n",
      " |  __gt__(self, value, /)\n",
      " |      Return self>value.\n",
      " |\n",
      " |  __hash__(self, /)\n",
      " |      Return hash(self).\n",
      " |\n",
      " |  __le__(self, value, /)\n",
      " |      Return self<=value.\n",
      " |\n",
      " |  __lt__(self, value, /)\n",
      " |      Return self<value.\n",
      " |\n",
      " |  __ne__(self, value, /)\n",
      " |      Return self!=value.\n",
      " |\n",
      " |  __repr__(self, /)\n",
      " |      Return repr(self).\n",
      " |\n",
      " |  ----------------------------------------------------------------------\n",
      " |  Static methods defined here:\n",
      " |\n",
      " |  __new__(*args, **kwargs)\n",
      " |      Create and return a new object.  See help(type) for accurate signature.\n",
      "\n"
     ]
    }
   ],
   "source": [
    "help(x_copy.sort())"
   ]
  },
  {
   "cell_type": "code",
   "execution_count": 49,
   "id": "a5bb1bf2-5422-447d-ae39-604be398ee6b",
   "metadata": {},
   "outputs": [
    {
     "data": {
      "text/plain": [
       "\u001b[1;31mSignature:\u001b[0m \u001b[0mx_copy\u001b[0m\u001b[1;33m.\u001b[0m\u001b[0msort\u001b[0m\u001b[1;33m(\u001b[0m\u001b[1;33m*\u001b[0m\u001b[1;33m,\u001b[0m \u001b[0mkey\u001b[0m\u001b[1;33m=\u001b[0m\u001b[1;32mNone\u001b[0m\u001b[1;33m,\u001b[0m \u001b[0mreverse\u001b[0m\u001b[1;33m=\u001b[0m\u001b[1;32mFalse\u001b[0m\u001b[1;33m)\u001b[0m\u001b[1;33m\u001b[0m\u001b[1;33m\u001b[0m\u001b[0m\n",
       "\u001b[1;31mDocstring:\u001b[0m\n",
       "Sort the list in ascending order and return None.\n",
       "\n",
       "The sort is in-place (i.e. the list itself is modified) and stable (i.e. the\n",
       "order of two equal elements is maintained).\n",
       "\n",
       "If a key function is given, apply it once to each list item and sort them,\n",
       "ascending or descending, according to their function values.\n",
       "\n",
       "The reverse flag can be set to sort in descending order.\n",
       "\u001b[1;31mType:\u001b[0m      builtin_function_or_method"
      ]
     },
     "metadata": {},
     "output_type": "display_data"
    }
   ],
   "source": [
    "?x_copy.sort"
   ]
  },
  {
   "cell_type": "code",
   "execution_count": 50,
   "id": "14bb9d11-ea2a-42ae-9cbd-f43163f847ed",
   "metadata": {},
   "outputs": [],
   "source": [
    "x_copy.sort()"
   ]
  },
  {
   "cell_type": "code",
   "execution_count": 51,
   "id": "fcd21784-7448-4253-96c6-a9cca3a8de87",
   "metadata": {},
   "outputs": [
    {
     "data": {
      "text/plain": [
       "[1, 2, 3, 5]"
      ]
     },
     "execution_count": 51,
     "metadata": {},
     "output_type": "execute_result"
    }
   ],
   "source": [
    "x_copy"
   ]
  },
  {
   "cell_type": "code",
   "execution_count": 53,
   "id": "9db00a4b-db57-4433-8e3b-05384263ab7e",
   "metadata": {},
   "outputs": [
    {
     "data": {
      "text/plain": [
       "[5, 3, 2, 1]"
      ]
     },
     "execution_count": 53,
     "metadata": {},
     "output_type": "execute_result"
    }
   ],
   "source": [
    "x_copy.sort(reverse = True)\n",
    "x_copy"
   ]
  },
  {
   "cell_type": "code",
   "execution_count": 56,
   "id": "7956215d-c984-4262-a1fe-bf5853e82b09",
   "metadata": {},
   "outputs": [
    {
     "data": {
      "text/plain": [
       "([[1, 2, 3], [2, 3, 4], [3, 4, 5]], [[[1, 2], [2, 3]], [[4, 5], [5, 6]]])"
      ]
     },
     "execution_count": 56,
     "metadata": {},
     "output_type": "execute_result"
    }
   ],
   "source": [
    "x_list1 = [[1,2,3],[2,3,4],[3,4,5]] # liste à deux dimensions (liste de listes)\n",
    "\n",
    "y_list1 = [[[1,2],[2,3]],[[4,5],[5,6]]] # liste à trois dimensions (liste de listes de listes)\n",
    "\n",
    "x,y"
   ]
  },
  {
   "cell_type": "code",
   "execution_count": 58,
   "id": "ea3764a6-8ab2-45b2-aeb1-9e1ba5e60df7",
   "metadata": {},
   "outputs": [
    {
     "data": {
      "text/plain": [
       "[2, 3, 4]"
      ]
     },
     "execution_count": 58,
     "metadata": {},
     "output_type": "execute_result"
    }
   ],
   "source": [
    "x_list1[1] 3 # access the second element in the list"
   ]
  },
  {
   "cell_type": "code",
   "execution_count": 63,
   "id": "7cb586b2-a7d7-4107-aa68-4f683dd69695",
   "metadata": {},
   "outputs": [
    {
     "data": {
      "text/plain": [
       "2"
      ]
     },
     "execution_count": 63,
     "metadata": {},
     "output_type": "execute_result"
    }
   ],
   "source": [
    "x_list1[1][0] # for multi list, you can keep indexing"
   ]
  },
  {
   "cell_type": "code",
   "execution_count": 60,
   "id": "0c7ca1aa-afbe-467d-8b08-834ab0f70d68",
   "metadata": {},
   "outputs": [
    {
     "data": {
      "text/plain": [
       "[[4, 5], [5, 6]]"
      ]
     },
     "execution_count": 60,
     "metadata": {},
     "output_type": "execute_result"
    }
   ],
   "source": [
    "y_list1[1]"
   ]
  },
  {
   "cell_type": "code",
   "execution_count": 61,
   "id": "07a75dca-4e1d-472e-88e1-c1de21adec0d",
   "metadata": {},
   "outputs": [
    {
     "data": {
      "text/plain": [
       "[4, 5]"
      ]
     },
     "execution_count": 61,
     "metadata": {},
     "output_type": "execute_result"
    }
   ],
   "source": [
    "y_list1[1][0]"
   ]
  },
  {
   "cell_type": "code",
   "execution_count": 62,
   "id": "80e87f8a-b490-4ca9-8368-559c7ed37eb4",
   "metadata": {},
   "outputs": [
    {
     "data": {
      "text/plain": [
       "5"
      ]
     },
     "execution_count": 62,
     "metadata": {},
     "output_type": "execute_result"
    }
   ],
   "source": [
    "y_list1[1][0][1]"
   ]
  },
  {
   "cell_type": "code",
   "execution_count": 64,
   "id": "95448381-462d-4940-8cd3-68edf2c622e5",
   "metadata": {},
   "outputs": [
    {
     "name": "stdout",
     "output_type": "stream",
     "text": [
      "Hey you\n",
      "Hey \t you\n"
     ]
    }
   ],
   "source": [
    "print('Hey you')\n",
    "print('Hey \\t you')"
   ]
  },
  {
   "cell_type": "code",
   "execution_count": 65,
   "id": "5df86a6f-4f84-4397-9aa8-842f77730d18",
   "metadata": {},
   "outputs": [
    {
     "name": "stdout",
     "output_type": "stream",
     "text": [
      "['Monday', 'Tuesday', 'Wednesday', 1800, 20.357, 'Thursday', 'Friday']\n"
     ]
    }
   ],
   "source": [
    "x = list(['Monday', 'Tuesday', 'Wednesday', 1800, 20.357, 'Thursday', 'Friday']) # Definition of a list\n",
    "print(x) # Displays all the elements of the list x"
   ]
  },
  {
   "cell_type": "code",
   "execution_count": 66,
   "id": "69e1bd9f-ee34-47ad-a750-608a5f110cd2",
   "metadata": {},
   "outputs": [
    {
     "name": "stdout",
     "output_type": "stream",
     "text": [
      "Monday\n",
      "================================================\n",
      "\t\n"
     ]
    }
   ],
   "source": [
    "print(x[0]) # Returns the first element of x: 'Monday' (Note: indexing starts at 0)"
   ]
  },
  {
   "cell_type": "code",
   "execution_count": 67,
   "id": "93a44eee-4db7-4f37-9a45-33595627aeda",
   "metadata": {},
   "outputs": [
    {
     "name": "stdout",
     "output_type": "stream",
     "text": [
      "1800\n"
     ]
    }
   ],
   "source": [
    "print(x[3]) # Returns the element at index 3 (fourth element of x): 1800"
   ]
  },
  {
   "cell_type": "code",
   "execution_count": 68,
   "id": "e214b226-652d-4ee1-9bb4-500638fcbdf2",
   "metadata": {},
   "outputs": [
    {
     "name": "stdout",
     "output_type": "stream",
     "text": [
      "['Tuesday', 'Wednesday']\n"
     ]
    }
   ],
   "source": [
    "print(x[1:3]) # Returns all elements between index 1 and index 3 (Note: element at index 3 is excluded)"
   ]
  },
  {
   "cell_type": "code",
   "execution_count": 69,
   "id": "48b6380f-be89-47e9-950b-f17016869451",
   "metadata": {},
   "outputs": [
    {
     "name": "stdout",
     "output_type": "stream",
     "text": [
      "['Tuesday', 1800, 'Thursday']\n"
     ]
    }
   ],
   "source": [
    "print(x[1:6:2]) # Returns all elements between index 1 and index 6 with a step of 2 elements each time \n",
    "#['Tuesday', 1800, 'Thursday'] (element at index 6 is excluded)."
   ]
  },
  {
   "cell_type": "code",
   "execution_count": 70,
   "id": "bd316265-a3aa-4959-9a3b-f8ce133b2f95",
   "metadata": {},
   "outputs": [
    {
     "name": "stdout",
     "output_type": "stream",
     "text": [
      "['Wednesday', 1800, 20.357, 'Thursday', 'Friday']\n"
     ]
    }
   ],
   "source": [
    "print(x[2:]) # Returns all elements starting from index 2 (inclusive)."
   ]
  },
  {
   "cell_type": "code",
   "execution_count": 71,
   "id": "a5804ed8-65d8-4e54-b413-bf98a8a490f5",
   "metadata": {},
   "outputs": [
    {
     "name": "stdout",
     "output_type": "stream",
     "text": [
      "['Monday', 'Tuesday', 'Wednesday']\n"
     ]
    }
   ],
   "source": [
    "print(x[:3]) # Returns all elements up to but not including index 3"
   ]
  },
  {
   "cell_type": "code",
   "execution_count": 72,
   "id": "75df1475-5abe-4b80-8a77-9380818fc5fc",
   "metadata": {},
   "outputs": [
    {
     "name": "stdout",
     "output_type": "stream",
     "text": [
      "Friday\n"
     ]
    }
   ],
   "source": [
    "print(x[-1]) # Negative indexing, returns the last element of the list (equivalent to x[6])"
   ]
  },
  {
   "cell_type": "code",
   "execution_count": 73,
   "id": "eef3c7d8-cc92-4e2f-bc1b-95b55e027b0f",
   "metadata": {},
   "outputs": [
    {
     "name": "stdout",
     "output_type": "stream",
     "text": [
      "Thursday\n"
     ]
    }
   ],
   "source": [
    "print(x[-2]) # Negative indexing, returns the second to last element of the list (equivalent to x[5])"
   ]
  },
  {
   "cell_type": "code",
   "execution_count": 74,
   "id": "26583aab-6069-4785-a6a6-6d8a556871aa",
   "metadata": {},
   "outputs": [
    {
     "name": "stdout",
     "output_type": "stream",
     "text": [
      "['Monday', 'Wednesday', 20.357, 'Friday']\n"
     ]
    }
   ],
   "source": [
    "print(x[::2]) # Iterates through all elements between index 0 and the last index, returning every second element \n",
    "#['Monday', 'Wednesday', 20.357, 'Friday']."
   ]
  },
  {
   "cell_type": "code",
   "execution_count": 75,
   "id": "b5051303-70fa-480c-9300-7b4132fa9cc4",
   "metadata": {},
   "outputs": [
    {
     "name": "stdout",
     "output_type": "stream",
     "text": [
      "['Friday', 'Thursday', 20.357, 1800, 'Wednesday', 'Tuesday', 'Monday']\n"
     ]
    }
   ],
   "source": [
    "print(x[::-1]) # Returns a list containing all elements of x, rearranged from the last element to the first. This is a reverse of x. Returns ['Friday', 'Thursday', 20.357, 1800, 'Wednesday', 'Tuesday', 'Monday'].\n",
    "# The same result can be obtained by using x.reverse()\n",
    "x_rev = x.reverse()\n",
    "x_rev"
   ]
  },
  {
   "cell_type": "code",
   "execution_count": 76,
   "id": "32796ec9-7655-4c6a-ab1a-b8dc8088e166",
   "metadata": {},
   "outputs": [
    {
     "name": "stdout",
     "output_type": "stream",
     "text": [
      "[[1, 2, 3], [2, 3, 4], [3, 4, 5]]\n"
     ]
    }
   ],
   "source": [
    "x = [[1, 2, 3], [2, 3, 4], [3, 4, 5]]\n",
    "print(x)"
   ]
  },
  {
   "cell_type": "code",
   "execution_count": 77,
   "id": "593523af-f646-42d0-a049-480620094d35",
   "metadata": {},
   "outputs": [
    {
     "name": "stdout",
     "output_type": "stream",
     "text": [
      "[1, 2, 3]\n"
     ]
    }
   ],
   "source": [
    "print(x[0]) # Returns the first sublist [1, 2, 3]"
   ]
  },
  {
   "cell_type": "code",
   "execution_count": 78,
   "id": "7b378c47-b2b7-4c7c-8ca9-9450583e2c82",
   "metadata": {},
   "outputs": [
    {
     "name": "stdout",
     "output_type": "stream",
     "text": [
      "1\n"
     ]
    }
   ],
   "source": [
    "print(x[0][0]) # Returns the first element of the first sublist, which is 1"
   ]
  },
  {
   "cell_type": "code",
   "execution_count": 79,
   "id": "e1932584-6539-4595-bd2c-965886f13d83",
   "metadata": {},
   "outputs": [
    {
     "name": "stdout",
     "output_type": "stream",
     "text": [
      "[3, 4, 5]\n"
     ]
    }
   ],
   "source": [
    "print(x[2]) # Returns the third sublist [3, 4, 5]"
   ]
  },
  {
   "cell_type": "code",
   "execution_count": 80,
   "id": "9f4b3664-b45a-4ba5-a561-a7b6ab5b3385",
   "metadata": {},
   "outputs": [
    {
     "name": "stdout",
     "output_type": "stream",
     "text": [
      "4\n"
     ]
    }
   ],
   "source": [
    "print(x[2][1]) # Returns the element at index 1 of the third sublist, which is 4"
   ]
  },
  {
   "cell_type": "code",
   "execution_count": 81,
   "id": "5502d66d-54b4-4b7f-848b-200a3c7065c2",
   "metadata": {},
   "outputs": [
    {
     "name": "stdout",
     "output_type": "stream",
     "text": [
      "[[2, 3, 4], [3, 4, 5]]\n"
     ]
    }
   ],
   "source": [
    "print(x[1:]) # Returns all sublists starting from index 1: [[2, 3, 4], [3, 4, 5]]"
   ]
  },
  {
   "cell_type": "code",
   "execution_count": 82,
   "id": "ece80de2-ea97-4167-85a8-b977d81f38a7",
   "metadata": {},
   "outputs": [
    {
     "name": "stdout",
     "output_type": "stream",
     "text": [
      "[2, 3, 4]\n"
     ]
    }
   ],
   "source": [
    "print(x[1:][0]) # Returns the first sublist from the sliced list: [2, 3, 4]"
   ]
  },
  {
   "cell_type": "code",
   "execution_count": 83,
   "id": "b05eb0f1-f9e5-4d7f-8a52-81b71bd13f45",
   "metadata": {},
   "outputs": [
    {
     "name": "stdout",
     "output_type": "stream",
     "text": [
      "[3, 4, 5]\n"
     ]
    }
   ],
   "source": [
    "print(x[-1]) # Returns the last sublist [3, 4, 5]"
   ]
  },
  {
   "cell_type": "code",
   "execution_count": 84,
   "id": "2a14c855-f995-4082-9165-4f604f735e83",
   "metadata": {},
   "outputs": [
    {
     "name": "stdout",
     "output_type": "stream",
     "text": [
      "[2, 3]\n"
     ]
    }
   ],
   "source": [
    "print(x[1][:2]) # Returns the first two elements of the second sublist: [2, 3]"
   ]
  },
  {
   "cell_type": "code",
   "execution_count": 85,
   "id": "b5560aa2-8b4f-4431-979c-cf6b183fe6e7",
   "metadata": {},
   "outputs": [
    {
     "name": "stdout",
     "output_type": "stream",
     "text": [
      "[3, 4]\n"
     ]
    }
   ],
   "source": [
    "print(x[1][1:]) # Returns elements from index 1 to the end of the second sublist: [3, 4]"
   ]
  },
  {
   "cell_type": "code",
   "execution_count": null,
   "id": "e8931e16-c777-4a2d-9da2-f0ce176d70bc",
   "metadata": {},
   "outputs": [],
   "source": []
  },
  {
   "cell_type": "markdown",
   "id": "2e995781-59df-4350-ab2c-8b3a4f34df05",
   "metadata": {},
   "source": [
    " - A **tuple** object is a sequence of values (numerical and/or characters) that are **indexed** and specified within **parentheses**, separated by commas. Example:\n",
    "      ```python\n",
    "         x = (1, 5, 8, 10, 4, 50, 8) # Tuple consisting only of numbers\n",
    "         y = (\"Olivier\", \"ENGEL\", \"Strasbourg\") # Tuple consisting only of characters\n",
    "         z = (1, \"Olivier\", 5, 8, \"ENGEL\", 10, 4, 50, \"Strasbourg\") # Tuple consisting of both numbers and characters.\n",
    "       \n",
    "      ```\n",
    "     A tuple object can be generated manually by specifying the values within parentheses or automatically using the `tuple()` function.\n",
    "      ```python\n",
    "        x = tuple(range(1, 10))\n",
    "        print(x) # returns (1, 2, 3, 4, 5, 6, 7, 8, 9)"
   ]
  },
  {
   "cell_type": "code",
   "execution_count": null,
   "id": "6ed365bd-e349-451f-aaab-523a3ddd2627",
   "metadata": {},
   "outputs": [],
   "source": []
  }
 ],
 "metadata": {
  "kernelspec": {
   "display_name": "Python 3 (ipykernel)",
   "language": "python",
   "name": "python3"
  },
  "language_info": {
   "codemirror_mode": {
    "name": "ipython",
    "version": 3
   },
   "file_extension": ".py",
   "mimetype": "text/x-python",
   "name": "python",
   "nbconvert_exporter": "python",
   "pygments_lexer": "ipython3",
   "version": "3.12.7"
  }
 },
 "nbformat": 4,
 "nbformat_minor": 5
}
